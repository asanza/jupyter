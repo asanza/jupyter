import numpy as np 
import matplotlib.pyplot as plt 
import scipy.signal as sg 

fs = 1500
f = 50

t = np.arange(0, .2, 1/ fs)
y = np.sin(2*np.pi*f*t)
plt.plot(t, y)
